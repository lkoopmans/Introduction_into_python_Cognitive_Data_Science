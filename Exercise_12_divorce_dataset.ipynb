{
 "cells": [
  {
   "cell_type": "markdown",
   "metadata": {},
   "source": [
    "# Divorce dataset \n",
    "\n",
    "In this exercise we are going to use study a dataset on divroces in the municipality of Xalapa in mexico [1]. This dataset with with transalted column titles \n",
    "\n",
    "[1] https://datos.gob.mx/busca/dataset/registro-civil"
   ]
  },
  {
   "cell_type": "markdown",
   "metadata": {},
   "source": [
    "First we are going to load the pandas package such that we can read the dataset. Using \"shift+enter\" you can run the code in a cell."
   ]
  },
  {
   "cell_type": "code",
   "execution_count": 1,
   "metadata": {},
   "outputs": [
    {
     "name": "stdout",
     "output_type": "stream",
     "text": [
      "Requirement already satisfied: pandas in ./.venv/lib/python3.12/site-packages (2.2.3)\n",
      "Requirement already satisfied: numpy>=1.26.0 in ./.venv/lib/python3.12/site-packages (from pandas) (2.1.2)\n",
      "Requirement already satisfied: python-dateutil>=2.8.2 in ./.venv/lib/python3.12/site-packages (from pandas) (2.9.0.post0)\n",
      "Requirement already satisfied: pytz>=2020.1 in ./.venv/lib/python3.12/site-packages (from pandas) (2024.2)\n",
      "Requirement already satisfied: tzdata>=2022.7 in ./.venv/lib/python3.12/site-packages (from pandas) (2024.2)\n",
      "Requirement already satisfied: six>=1.5 in ./.venv/lib/python3.12/site-packages (from python-dateutil>=2.8.2->pandas) (1.16.0)\n",
      "Note: you may need to restart the kernel to use updated packages.\n",
      "Requirement already satisfied: matplotlib in ./.venv/lib/python3.12/site-packages (3.9.2)\n",
      "Requirement already satisfied: contourpy>=1.0.1 in ./.venv/lib/python3.12/site-packages (from matplotlib) (1.3.0)\n",
      "Requirement already satisfied: cycler>=0.10 in ./.venv/lib/python3.12/site-packages (from matplotlib) (0.12.1)\n",
      "Requirement already satisfied: fonttools>=4.22.0 in ./.venv/lib/python3.12/site-packages (from matplotlib) (4.54.1)\n",
      "Requirement already satisfied: kiwisolver>=1.3.1 in ./.venv/lib/python3.12/site-packages (from matplotlib) (1.4.7)\n",
      "Requirement already satisfied: numpy>=1.23 in ./.venv/lib/python3.12/site-packages (from matplotlib) (2.1.2)\n",
      "Requirement already satisfied: packaging>=20.0 in ./.venv/lib/python3.12/site-packages (from matplotlib) (24.1)\n",
      "Requirement already satisfied: pillow>=8 in ./.venv/lib/python3.12/site-packages (from matplotlib) (10.4.0)\n",
      "Requirement already satisfied: pyparsing>=2.3.1 in ./.venv/lib/python3.12/site-packages (from matplotlib) (3.1.4)\n",
      "Requirement already satisfied: python-dateutil>=2.7 in ./.venv/lib/python3.12/site-packages (from matplotlib) (2.9.0.post0)\n",
      "Requirement already satisfied: six>=1.5 in ./.venv/lib/python3.12/site-packages (from python-dateutil>=2.7->matplotlib) (1.16.0)\n",
      "Note: you may need to restart the kernel to use updated packages.\n",
      "Requirement already satisfied: numpy in ./.venv/lib/python3.12/site-packages (2.1.2)\n",
      "Note: you may need to restart the kernel to use updated packages.\n",
      "Requirement already satisfied: scipy in ./.venv/lib/python3.12/site-packages (1.14.1)\n",
      "Requirement already satisfied: numpy<2.3,>=1.23.5 in ./.venv/lib/python3.12/site-packages (from scipy) (2.1.2)\n",
      "Note: you may need to restart the kernel to use updated packages.\n"
     ]
    }
   ],
   "source": [
    "%pip install pandas\n",
    "%pip install matplotlib\n",
    "%pip install numpy\n",
    "%pip install scipy\n",
    "\n",
    "import pandas as pd\n",
    "import matplotlib.pyplot as plt\n",
    "import numpy as np\n",
    "import scipy"
   ]
  },
  {
   "cell_type": "markdown",
   "metadata": {},
   "source": [
    "Unsing the read_csv function we can import the datset. After the datset is assigned to a variable, you can print the first 5 rows of the dataframe by typing \".head()\" after the variable name. This is usefull to see what the data lookslike withouth printing the complete dataset. When .head() is used, it uses the defailt setting of 5 rows. You can type a different value in the brackets to see more or less rows. For example, df.head(10)"
   ]
  },
  {
   "cell_type": "code",
   "execution_count": 2,
   "metadata": {},
   "outputs": [
    {
     "data": {
      "text/html": [
       "<div>\n",
       "<style scoped>\n",
       "    .dataframe tbody tr th:only-of-type {\n",
       "        vertical-align: middle;\n",
       "    }\n",
       "\n",
       "    .dataframe tbody tr th {\n",
       "        vertical-align: top;\n",
       "    }\n",
       "\n",
       "    .dataframe thead th {\n",
       "        text-align: right;\n",
       "    }\n",
       "</style>\n",
       "<table border=\"1\" class=\"dataframe\">\n",
       "  <thead>\n",
       "    <tr style=\"text-align: right;\">\n",
       "      <th></th>\n",
       "      <th>Divorce_date</th>\n",
       "      <th>Type_of_divorce</th>\n",
       "      <th>Nationality_partner_man</th>\n",
       "      <th>DOB_partner_man</th>\n",
       "      <th>Place_of_birth_partner_man</th>\n",
       "      <th>Birth_municipality_of_partner_man</th>\n",
       "      <th>Birth_federal_partner_man</th>\n",
       "      <th>Birth_country_partner_man</th>\n",
       "      <th>Age_partner_man</th>\n",
       "      <th>Residence_municipality_partner_man</th>\n",
       "      <th>...</th>\n",
       "      <th>Marriage_certificate_municipality</th>\n",
       "      <th>Marriage_certificate_federal</th>\n",
       "      <th>Level_of_education_partner_man</th>\n",
       "      <th>Employment_status_partner_man</th>\n",
       "      <th>Level_of_education_partner_woman</th>\n",
       "      <th>Employment_status_partner_woman</th>\n",
       "      <th>Marriage_duration</th>\n",
       "      <th>Marriage_duration_months</th>\n",
       "      <th>Num_Children</th>\n",
       "      <th>Custody</th>\n",
       "    </tr>\n",
       "  </thead>\n",
       "  <tbody>\n",
       "    <tr>\n",
       "      <th>0</th>\n",
       "      <td>9/6/06</td>\n",
       "      <td>Necesario</td>\n",
       "      <td>MEXICANA</td>\n",
       "      <td>18/12/75</td>\n",
       "      <td>XALAPA - ENRIQUEZ</td>\n",
       "      <td>XALAPA</td>\n",
       "      <td>VERACRUZ</td>\n",
       "      <td>MEXICO</td>\n",
       "      <td>30.0</td>\n",
       "      <td>XALAPA</td>\n",
       "      <td>...</td>\n",
       "      <td>XALAPA</td>\n",
       "      <td>VERACRUZ</td>\n",
       "      <td>SECUNDARIA</td>\n",
       "      <td>OBRERO</td>\n",
       "      <td>SECUNDARIA</td>\n",
       "      <td>EMPLEADO</td>\n",
       "      <td>5.0</td>\n",
       "      <td>NaN</td>\n",
       "      <td>1.0</td>\n",
       "      <td>NaN</td>\n",
       "    </tr>\n",
       "    <tr>\n",
       "      <th>1</th>\n",
       "      <td>1/2/00</td>\n",
       "      <td>Voluntario</td>\n",
       "      <td>MEXICANA</td>\n",
       "      <td>NaN</td>\n",
       "      <td>NaN</td>\n",
       "      <td>NaN</td>\n",
       "      <td>NaN</td>\n",
       "      <td>NaN</td>\n",
       "      <td>47.0</td>\n",
       "      <td>NaN</td>\n",
       "      <td>...</td>\n",
       "      <td>XALAPA</td>\n",
       "      <td>VERACRUZ</td>\n",
       "      <td>PREPARATORIA</td>\n",
       "      <td>ESTABLECIMIENTO</td>\n",
       "      <td>PREPARATORIA</td>\n",
       "      <td>EMPLEADO</td>\n",
       "      <td>NaN</td>\n",
       "      <td>NaN</td>\n",
       "      <td>NaN</td>\n",
       "      <td>NaN</td>\n",
       "    </tr>\n",
       "    <tr>\n",
       "      <th>2</th>\n",
       "      <td>1/2/05</td>\n",
       "      <td>Necesario</td>\n",
       "      <td>MEXICANA</td>\n",
       "      <td>22/2/55</td>\n",
       "      <td>XALAPA - ENRIQUEZ</td>\n",
       "      <td>XALAPA</td>\n",
       "      <td>VERACRUZ</td>\n",
       "      <td>MEXICO</td>\n",
       "      <td>49.0</td>\n",
       "      <td>NaN</td>\n",
       "      <td>...</td>\n",
       "      <td>XALAPA</td>\n",
       "      <td>VERACRUZ</td>\n",
       "      <td>PREPARATORIA</td>\n",
       "      <td>OBRERO</td>\n",
       "      <td>NaN</td>\n",
       "      <td>TRABAJADOR POR CUENTA PROPIA EN VIA PUBLICA</td>\n",
       "      <td>NaN</td>\n",
       "      <td>NaN</td>\n",
       "      <td>NaN</td>\n",
       "      <td>NaN</td>\n",
       "    </tr>\n",
       "    <tr>\n",
       "      <th>3</th>\n",
       "      <td>1/2/06</td>\n",
       "      <td>Necesario</td>\n",
       "      <td>MEXICANA</td>\n",
       "      <td>20/1/64</td>\n",
       "      <td>XALAPA - ENRIQUEZ</td>\n",
       "      <td>XALAPA</td>\n",
       "      <td>VERACRUZ</td>\n",
       "      <td>MEXICO</td>\n",
       "      <td>42.0</td>\n",
       "      <td>XALAPA</td>\n",
       "      <td>...</td>\n",
       "      <td>XALAPA</td>\n",
       "      <td>VERACRUZ</td>\n",
       "      <td>PROFESIONAL</td>\n",
       "      <td>EMPLEADO</td>\n",
       "      <td>PREPARATORIA</td>\n",
       "      <td>EMPLEADO</td>\n",
       "      <td>18.0</td>\n",
       "      <td>NaN</td>\n",
       "      <td>2.0</td>\n",
       "      <td>MADRE</td>\n",
       "    </tr>\n",
       "    <tr>\n",
       "      <th>4</th>\n",
       "      <td>1/2/06</td>\n",
       "      <td>Necesario</td>\n",
       "      <td>MEXICANA</td>\n",
       "      <td>30/10/75</td>\n",
       "      <td>XALAPA - ENRIQUEZ</td>\n",
       "      <td>XALAPA</td>\n",
       "      <td>VERACRUZ</td>\n",
       "      <td>MEXICO</td>\n",
       "      <td>30.0</td>\n",
       "      <td>COATEPEC</td>\n",
       "      <td>...</td>\n",
       "      <td>XALAPA</td>\n",
       "      <td>VERACRUZ</td>\n",
       "      <td>PROFESIONAL</td>\n",
       "      <td>EMPLEADO</td>\n",
       "      <td>PREPARATORIA</td>\n",
       "      <td>NO TRABAJA</td>\n",
       "      <td>7.0</td>\n",
       "      <td>NaN</td>\n",
       "      <td>2.0</td>\n",
       "      <td>MADRE</td>\n",
       "    </tr>\n",
       "    <tr>\n",
       "      <th>5</th>\n",
       "      <td>1/2/06</td>\n",
       "      <td>Necesario</td>\n",
       "      <td>MEXICANA</td>\n",
       "      <td>28/3/73</td>\n",
       "      <td>COATEPEC</td>\n",
       "      <td>COATEPEC</td>\n",
       "      <td>VERACRUZ</td>\n",
       "      <td>MEXICO</td>\n",
       "      <td>32.0</td>\n",
       "      <td>XALAPA</td>\n",
       "      <td>...</td>\n",
       "      <td>XALAPA</td>\n",
       "      <td>VERACRUZ</td>\n",
       "      <td>SECUNDARIA</td>\n",
       "      <td>EMPLEADO</td>\n",
       "      <td>SECUNDARIA</td>\n",
       "      <td>NO TRABAJA</td>\n",
       "      <td>11.0</td>\n",
       "      <td>NaN</td>\n",
       "      <td>2.0</td>\n",
       "      <td>MADRE</td>\n",
       "    </tr>\n",
       "    <tr>\n",
       "      <th>6</th>\n",
       "      <td>1/2/07</td>\n",
       "      <td>Necesario</td>\n",
       "      <td>MEXICANA</td>\n",
       "      <td>13/12/70</td>\n",
       "      <td>XALAPA - ENRIQUEZ</td>\n",
       "      <td>XALAPA</td>\n",
       "      <td>VERACRUZ</td>\n",
       "      <td>MEXICO</td>\n",
       "      <td>36.0</td>\n",
       "      <td>XALAPA</td>\n",
       "      <td>...</td>\n",
       "      <td>XALAPA</td>\n",
       "      <td>VERACRUZ</td>\n",
       "      <td>PROFESIONAL</td>\n",
       "      <td>EMPLEADO</td>\n",
       "      <td>PROFESIONAL</td>\n",
       "      <td>NO TRABAJA</td>\n",
       "      <td>15.0</td>\n",
       "      <td>NaN</td>\n",
       "      <td>2.0</td>\n",
       "      <td>MADRE</td>\n",
       "    </tr>\n",
       "    <tr>\n",
       "      <th>7</th>\n",
       "      <td>1/2/07</td>\n",
       "      <td>Necesario</td>\n",
       "      <td>MEXICANA</td>\n",
       "      <td>17/2/75</td>\n",
       "      <td>DISTRITO FEDERAL</td>\n",
       "      <td>DISTRITO FEDERAL</td>\n",
       "      <td>DISTRITO FEDERAL</td>\n",
       "      <td>MEXICO</td>\n",
       "      <td>31.0</td>\n",
       "      <td>XALAPA</td>\n",
       "      <td>...</td>\n",
       "      <td>XALAPA</td>\n",
       "      <td>VERACRUZ</td>\n",
       "      <td>PROFESIONAL</td>\n",
       "      <td>EMPLEADO</td>\n",
       "      <td>PROFESIONAL</td>\n",
       "      <td>EMPLEADO</td>\n",
       "      <td>6.0</td>\n",
       "      <td>NaN</td>\n",
       "      <td>1.0</td>\n",
       "      <td>MADRE</td>\n",
       "    </tr>\n",
       "    <tr>\n",
       "      <th>8</th>\n",
       "      <td>1/2/08</td>\n",
       "      <td>Voluntario</td>\n",
       "      <td>MEXICANA</td>\n",
       "      <td>2/12/76</td>\n",
       "      <td>CIUDAD MANTE</td>\n",
       "      <td>CIUDAD MANTE</td>\n",
       "      <td>TAMAULIPAS</td>\n",
       "      <td>MEXICO</td>\n",
       "      <td>31.0</td>\n",
       "      <td>CIUDAD VALLES</td>\n",
       "      <td>...</td>\n",
       "      <td>XALAPA</td>\n",
       "      <td>VERACRUZ</td>\n",
       "      <td>PROFESIONAL</td>\n",
       "      <td>EMPLEADO</td>\n",
       "      <td>PROFESIONAL</td>\n",
       "      <td>NO TRABAJA</td>\n",
       "      <td>1.0</td>\n",
       "      <td>7.0</td>\n",
       "      <td>NaN</td>\n",
       "      <td>NaN</td>\n",
       "    </tr>\n",
       "    <tr>\n",
       "      <th>9</th>\n",
       "      <td>1/2/08</td>\n",
       "      <td>Voluntario</td>\n",
       "      <td>MEXICANA</td>\n",
       "      <td>17/11/76</td>\n",
       "      <td>LOS MOCHIS</td>\n",
       "      <td>LOS MOCHIS</td>\n",
       "      <td>SINALOA</td>\n",
       "      <td>MEXICO</td>\n",
       "      <td>31.0</td>\n",
       "      <td>XALAPA</td>\n",
       "      <td>...</td>\n",
       "      <td>XALAPA</td>\n",
       "      <td>VERACRUZ</td>\n",
       "      <td>PROFESIONAL</td>\n",
       "      <td>EMPLEADO</td>\n",
       "      <td>PROFESIONAL</td>\n",
       "      <td>EMPLEADO</td>\n",
       "      <td>7.0</td>\n",
       "      <td>11.0</td>\n",
       "      <td>NaN</td>\n",
       "      <td>NaN</td>\n",
       "    </tr>\n",
       "  </tbody>\n",
       "</table>\n",
       "<p>10 rows × 41 columns</p>\n",
       "</div>"
      ],
      "text/plain": [
       "  Divorce_date Type_of_divorce Nationality_partner_man DOB_partner_man  \\\n",
       "0       9/6/06       Necesario                MEXICANA        18/12/75   \n",
       "1       1/2/00      Voluntario                MEXICANA             NaN   \n",
       "2       1/2/05       Necesario                MEXICANA         22/2/55   \n",
       "3       1/2/06       Necesario                MEXICANA         20/1/64   \n",
       "4       1/2/06       Necesario                MEXICANA        30/10/75   \n",
       "5       1/2/06       Necesario                MEXICANA         28/3/73   \n",
       "6       1/2/07       Necesario                MEXICANA        13/12/70   \n",
       "7       1/2/07       Necesario                MEXICANA         17/2/75   \n",
       "8       1/2/08      Voluntario                MEXICANA         2/12/76   \n",
       "9       1/2/08      Voluntario                MEXICANA        17/11/76   \n",
       "\n",
       "  Place_of_birth_partner_man Birth_municipality_of_partner_man  \\\n",
       "0          XALAPA - ENRIQUEZ                            XALAPA   \n",
       "1                        NaN                               NaN   \n",
       "2          XALAPA - ENRIQUEZ                            XALAPA   \n",
       "3          XALAPA - ENRIQUEZ                            XALAPA   \n",
       "4          XALAPA - ENRIQUEZ                            XALAPA   \n",
       "5                   COATEPEC                          COATEPEC   \n",
       "6          XALAPA - ENRIQUEZ                            XALAPA   \n",
       "7           DISTRITO FEDERAL                  DISTRITO FEDERAL   \n",
       "8               CIUDAD MANTE                      CIUDAD MANTE   \n",
       "9                 LOS MOCHIS                        LOS MOCHIS   \n",
       "\n",
       "  Birth_federal_partner_man Birth_country_partner_man  Age_partner_man  \\\n",
       "0                  VERACRUZ                    MEXICO             30.0   \n",
       "1                       NaN                       NaN             47.0   \n",
       "2                  VERACRUZ                    MEXICO             49.0   \n",
       "3                  VERACRUZ                    MEXICO             42.0   \n",
       "4                  VERACRUZ                    MEXICO             30.0   \n",
       "5                  VERACRUZ                    MEXICO             32.0   \n",
       "6                  VERACRUZ                    MEXICO             36.0   \n",
       "7          DISTRITO FEDERAL                    MEXICO             31.0   \n",
       "8                TAMAULIPAS                    MEXICO             31.0   \n",
       "9                   SINALOA                    MEXICO             31.0   \n",
       "\n",
       "  Residence_municipality_partner_man  ... Marriage_certificate_municipality  \\\n",
       "0                             XALAPA  ...                            XALAPA   \n",
       "1                                NaN  ...                            XALAPA   \n",
       "2                                NaN  ...                            XALAPA   \n",
       "3                             XALAPA  ...                            XALAPA   \n",
       "4                           COATEPEC  ...                            XALAPA   \n",
       "5                             XALAPA  ...                            XALAPA   \n",
       "6                             XALAPA  ...                            XALAPA   \n",
       "7                             XALAPA  ...                            XALAPA   \n",
       "8                      CIUDAD VALLES  ...                            XALAPA   \n",
       "9                             XALAPA  ...                            XALAPA   \n",
       "\n",
       "  Marriage_certificate_federal  Level_of_education_partner_man  \\\n",
       "0                     VERACRUZ                      SECUNDARIA   \n",
       "1                     VERACRUZ                    PREPARATORIA   \n",
       "2                     VERACRUZ                    PREPARATORIA   \n",
       "3                     VERACRUZ                     PROFESIONAL   \n",
       "4                     VERACRUZ                     PROFESIONAL   \n",
       "5                     VERACRUZ                      SECUNDARIA   \n",
       "6                     VERACRUZ                     PROFESIONAL   \n",
       "7                     VERACRUZ                     PROFESIONAL   \n",
       "8                     VERACRUZ                     PROFESIONAL   \n",
       "9                     VERACRUZ                     PROFESIONAL   \n",
       "\n",
       "  Employment_status_partner_man Level_of_education_partner_woman  \\\n",
       "0                        OBRERO                       SECUNDARIA   \n",
       "1               ESTABLECIMIENTO                     PREPARATORIA   \n",
       "2                        OBRERO                              NaN   \n",
       "3                      EMPLEADO                     PREPARATORIA   \n",
       "4                      EMPLEADO                     PREPARATORIA   \n",
       "5                      EMPLEADO                       SECUNDARIA   \n",
       "6                      EMPLEADO                      PROFESIONAL   \n",
       "7                      EMPLEADO                      PROFESIONAL   \n",
       "8                      EMPLEADO                      PROFESIONAL   \n",
       "9                      EMPLEADO                      PROFESIONAL   \n",
       "\n",
       "                Employment_status_partner_woman Marriage_duration  \\\n",
       "0                                      EMPLEADO               5.0   \n",
       "1                                      EMPLEADO               NaN   \n",
       "2  TRABAJADOR POR CUENTA PROPIA EN VIA PUBLICA                NaN   \n",
       "3                                      EMPLEADO              18.0   \n",
       "4                                    NO TRABAJA               7.0   \n",
       "5                                    NO TRABAJA              11.0   \n",
       "6                                    NO TRABAJA              15.0   \n",
       "7                                      EMPLEADO               6.0   \n",
       "8                                    NO TRABAJA               1.0   \n",
       "9                                      EMPLEADO               7.0   \n",
       "\n",
       "  Marriage_duration_months Num_Children Custody  \n",
       "0                      NaN          1.0     NaN  \n",
       "1                      NaN          NaN     NaN  \n",
       "2                      NaN          NaN     NaN  \n",
       "3                      NaN          2.0   MADRE  \n",
       "4                      NaN          2.0   MADRE  \n",
       "5                      NaN          2.0   MADRE  \n",
       "6                      NaN          2.0   MADRE  \n",
       "7                      NaN          1.0   MADRE  \n",
       "8                      7.0          NaN     NaN  \n",
       "9                     11.0          NaN     NaN  \n",
       "\n",
       "[10 rows x 41 columns]"
      ]
     },
     "execution_count": 2,
     "metadata": {},
     "output_type": "execute_result"
    }
   ],
   "source": [
    "df_divorce = pd.read_csv('data/divorces_2000-2015_translated.csv')\n",
    "df_divorce.head(10)"
   ]
  },
  {
   "cell_type": "markdown",
   "metadata": {},
   "source": [
    "Compute the number of rows and columns the dataframe has by using the .shape atribute."
   ]
  },
  {
   "cell_type": "code",
   "execution_count": 3,
   "metadata": {},
   "outputs": [
    {
     "data": {
      "text/plain": [
       "(4923, 41)"
      ]
     },
     "execution_count": 3,
     "metadata": {},
     "output_type": "execute_result"
    }
   ],
   "source": [
    "df_divorce.shape\n"
   ]
  },
  {
   "cell_type": "markdown",
   "metadata": {},
   "source": [
    "The dataset should contain 4923 rows and 41 columns. As we are often only intrested in a part of the data, it is usefull to filter out te results that you are not going to use for your analyses. \n",
    "\n",
    "First we are going look at the ages where people get divorced. Write code that generates a new dataframe which only contains the the collumns 'Age_partner_man' and 'Age_partner_woman'. Give the new variable a logical name and print the head of the newly obtained dataframe to check if it looks right."
   ]
  },
  {
   "cell_type": "code",
   "execution_count": 4,
   "metadata": {},
   "outputs": [
    {
     "data": {
      "text/html": [
       "<div>\n",
       "<style scoped>\n",
       "    .dataframe tbody tr th:only-of-type {\n",
       "        vertical-align: middle;\n",
       "    }\n",
       "\n",
       "    .dataframe tbody tr th {\n",
       "        vertical-align: top;\n",
       "    }\n",
       "\n",
       "    .dataframe thead th {\n",
       "        text-align: right;\n",
       "    }\n",
       "</style>\n",
       "<table border=\"1\" class=\"dataframe\">\n",
       "  <thead>\n",
       "    <tr style=\"text-align: right;\">\n",
       "      <th></th>\n",
       "      <th>Age_partner_man</th>\n",
       "      <th>Age_partner_woman</th>\n",
       "    </tr>\n",
       "  </thead>\n",
       "  <tbody>\n",
       "    <tr>\n",
       "      <th>0</th>\n",
       "      <td>30.0</td>\n",
       "      <td>22.0</td>\n",
       "    </tr>\n",
       "    <tr>\n",
       "      <th>1</th>\n",
       "      <td>47.0</td>\n",
       "      <td>41.0</td>\n",
       "    </tr>\n",
       "    <tr>\n",
       "      <th>2</th>\n",
       "      <td>49.0</td>\n",
       "      <td>57.0</td>\n",
       "    </tr>\n",
       "    <tr>\n",
       "      <th>3</th>\n",
       "      <td>42.0</td>\n",
       "      <td>NaN</td>\n",
       "    </tr>\n",
       "    <tr>\n",
       "      <th>4</th>\n",
       "      <td>30.0</td>\n",
       "      <td>27.0</td>\n",
       "    </tr>\n",
       "    <tr>\n",
       "      <th>5</th>\n",
       "      <td>32.0</td>\n",
       "      <td>29.0</td>\n",
       "    </tr>\n",
       "    <tr>\n",
       "      <th>6</th>\n",
       "      <td>36.0</td>\n",
       "      <td>35.0</td>\n",
       "    </tr>\n",
       "    <tr>\n",
       "      <th>7</th>\n",
       "      <td>31.0</td>\n",
       "      <td>32.0</td>\n",
       "    </tr>\n",
       "    <tr>\n",
       "      <th>8</th>\n",
       "      <td>31.0</td>\n",
       "      <td>28.0</td>\n",
       "    </tr>\n",
       "    <tr>\n",
       "      <th>9</th>\n",
       "      <td>31.0</td>\n",
       "      <td>30.0</td>\n",
       "    </tr>\n",
       "  </tbody>\n",
       "</table>\n",
       "</div>"
      ],
      "text/plain": [
       "   Age_partner_man  Age_partner_woman\n",
       "0             30.0               22.0\n",
       "1             47.0               41.0\n",
       "2             49.0               57.0\n",
       "3             42.0                NaN\n",
       "4             30.0               27.0\n",
       "5             32.0               29.0\n",
       "6             36.0               35.0\n",
       "7             31.0               32.0\n",
       "8             31.0               28.0\n",
       "9             31.0               30.0"
      ]
     },
     "execution_count": 4,
     "metadata": {},
     "output_type": "execute_result"
    }
   ],
   "source": [
    "df_divorce_age = df_divorce[['Age_partner_man', 'Age_partner_woman']]\n",
    "df_divorce_age.head(10)\n"
   ]
  },
  {
   "cell_type": "markdown",
   "metadata": {},
   "source": [
    "In practice, datasets are quite often incomplete. Data entries can be missing for whatever reason, as is the case with this dataset. Row 3 should show NaN for the \"Age_partner_woman\". NaN mean \"not a number\". As we only want to evalute data instances where both the ages are known, we want to drop the rows which contains NaN values. By using the \".dropna()\" atribute, we can remove all the rows containing NaN values. Write code to do this and check if the NaN value is removed from the table."
   ]
  },
  {
   "cell_type": "code",
   "execution_count": 5,
   "metadata": {},
   "outputs": [
    {
     "data": {
      "text/html": [
       "<div>\n",
       "<style scoped>\n",
       "    .dataframe tbody tr th:only-of-type {\n",
       "        vertical-align: middle;\n",
       "    }\n",
       "\n",
       "    .dataframe tbody tr th {\n",
       "        vertical-align: top;\n",
       "    }\n",
       "\n",
       "    .dataframe thead th {\n",
       "        text-align: right;\n",
       "    }\n",
       "</style>\n",
       "<table border=\"1\" class=\"dataframe\">\n",
       "  <thead>\n",
       "    <tr style=\"text-align: right;\">\n",
       "      <th></th>\n",
       "      <th>Age_partner_man</th>\n",
       "      <th>Age_partner_woman</th>\n",
       "    </tr>\n",
       "  </thead>\n",
       "  <tbody>\n",
       "    <tr>\n",
       "      <th>0</th>\n",
       "      <td>30.0</td>\n",
       "      <td>22.0</td>\n",
       "    </tr>\n",
       "    <tr>\n",
       "      <th>1</th>\n",
       "      <td>47.0</td>\n",
       "      <td>41.0</td>\n",
       "    </tr>\n",
       "    <tr>\n",
       "      <th>2</th>\n",
       "      <td>49.0</td>\n",
       "      <td>57.0</td>\n",
       "    </tr>\n",
       "    <tr>\n",
       "      <th>4</th>\n",
       "      <td>30.0</td>\n",
       "      <td>27.0</td>\n",
       "    </tr>\n",
       "    <tr>\n",
       "      <th>5</th>\n",
       "      <td>32.0</td>\n",
       "      <td>29.0</td>\n",
       "    </tr>\n",
       "    <tr>\n",
       "      <th>6</th>\n",
       "      <td>36.0</td>\n",
       "      <td>35.0</td>\n",
       "    </tr>\n",
       "    <tr>\n",
       "      <th>7</th>\n",
       "      <td>31.0</td>\n",
       "      <td>32.0</td>\n",
       "    </tr>\n",
       "    <tr>\n",
       "      <th>8</th>\n",
       "      <td>31.0</td>\n",
       "      <td>28.0</td>\n",
       "    </tr>\n",
       "    <tr>\n",
       "      <th>9</th>\n",
       "      <td>31.0</td>\n",
       "      <td>30.0</td>\n",
       "    </tr>\n",
       "    <tr>\n",
       "      <th>10</th>\n",
       "      <td>41.0</td>\n",
       "      <td>40.0</td>\n",
       "    </tr>\n",
       "  </tbody>\n",
       "</table>\n",
       "</div>"
      ],
      "text/plain": [
       "    Age_partner_man  Age_partner_woman\n",
       "0              30.0               22.0\n",
       "1              47.0               41.0\n",
       "2              49.0               57.0\n",
       "4              30.0               27.0\n",
       "5              32.0               29.0\n",
       "6              36.0               35.0\n",
       "7              31.0               32.0\n",
       "8              31.0               28.0\n",
       "9              31.0               30.0\n",
       "10             41.0               40.0"
      ]
     },
     "execution_count": 5,
     "metadata": {},
     "output_type": "execute_result"
    }
   ],
   "source": [
    "df_divorce_age = df_divorce_age.dropna()\n",
    "df_divorce_age.head(10)"
   ]
  },
  {
   "cell_type": "markdown",
   "metadata": {},
   "source": [
    "How many rows does the cleaned data have?"
   ]
  },
  {
   "cell_type": "code",
   "execution_count": 6,
   "metadata": {},
   "outputs": [
    {
     "data": {
      "text/plain": [
       "(4719, 2)"
      ]
     },
     "execution_count": 6,
     "metadata": {},
     "output_type": "execute_result"
    }
   ],
   "source": [
    "df_divorce_age.shape"
   ]
  },
  {
   "cell_type": "markdown",
   "metadata": {},
   "source": [
    "Now we have a clean dataset, we can start computing some statistics. Compute the oldest divorce age for man and for women. Use the \".max()\" atribute"
   ]
  },
  {
   "cell_type": "code",
   "execution_count": 7,
   "metadata": {},
   "outputs": [
    {
     "data": {
      "text/plain": [
       "Age_partner_man      91.0\n",
       "Age_partner_woman    84.0\n",
       "dtype: float64"
      ]
     },
     "execution_count": 7,
     "metadata": {},
     "output_type": "execute_result"
    }
   ],
   "source": [
    "df_divorce_age.max()"
   ]
  },
  {
   "cell_type": "markdown",
   "metadata": {},
   "source": [
    "Compute the maximum value for only the man"
   ]
  },
  {
   "cell_type": "code",
   "execution_count": 8,
   "metadata": {},
   "outputs": [
    {
     "data": {
      "text/plain": [
       "np.float64(91.0)"
      ]
     },
     "execution_count": 8,
     "metadata": {},
     "output_type": "execute_result"
    }
   ],
   "source": [
    "df_divorce_age['Age_partner_man'].max()"
   ]
  },
  {
   "cell_type": "markdown",
   "metadata": {},
   "source": [
    "What is the youngest divorce age for both genders?"
   ]
  },
  {
   "cell_type": "code",
   "execution_count": 9,
   "metadata": {},
   "outputs": [
    {
     "data": {
      "text/plain": [
       "Age_partner_man      19.0\n",
       "Age_partner_woman    17.0\n",
       "dtype: float64"
      ]
     },
     "execution_count": 9,
     "metadata": {},
     "output_type": "execute_result"
    }
   ],
   "source": [
    "df_divorce_age.min()"
   ]
  },
  {
   "cell_type": "markdown",
   "metadata": {},
   "source": [
    "What is the average age? Use the .mean() atribute"
   ]
  },
  {
   "cell_type": "code",
   "execution_count": 10,
   "metadata": {},
   "outputs": [
    {
     "data": {
      "text/plain": [
       "Age_partner_man      39.294342\n",
       "Age_partner_woman    36.916932\n",
       "dtype: float64"
      ]
     },
     "execution_count": 10,
     "metadata": {},
     "output_type": "execute_result"
    }
   ],
   "source": [
    "df_divorce_age.mean()"
   ]
  },
  {
   "cell_type": "markdown",
   "metadata": {},
   "source": [
    "What is the median age?"
   ]
  },
  {
   "cell_type": "code",
   "execution_count": 11,
   "metadata": {},
   "outputs": [
    {
     "data": {
      "text/plain": [
       "Age_partner_man      38.0\n",
       "Age_partner_woman    35.0\n",
       "dtype: float64"
      ]
     },
     "execution_count": 11,
     "metadata": {},
     "output_type": "execute_result"
    }
   ],
   "source": [
    "df_divorce_age.median()"
   ]
  },
  {
   "cell_type": "markdown",
   "metadata": {},
   "source": [
    "To further study this data, we are going to plot the age distributions of the divorces ages. You can use the \"plt.hist()\" functions for this. Always start a figure by defining a new figure by running \"plt.figure()\". As an example:\n",
    "\n",
    "```python\n",
    "plt.figure()\n",
    "plt.hist(df_divorce_age['Age_man'], bins=40, alpha=0.5, label='Age Man', color='blue')\n",
    "plt.hist(df_divorce_age['Age_woman'], bins=40, alpha=0.5, label='Age Female', color='red')\n",
    "plt.xlabel('Age')\n",
    "plt.ylabel('Frequency')\n",
    "plt.legend()\n",
    "```\n",
    "\n",
    "Play around with the bins size, alpha, and color to find out what they do."
   ]
  },
  {
   "cell_type": "code",
   "execution_count": 12,
   "metadata": {},
   "outputs": [
    {
     "data": {
      "text/plain": [
       "<matplotlib.legend.Legend at 0x12ef0b830>"
      ]
     },
     "execution_count": 12,
     "metadata": {},
     "output_type": "execute_result"
    },
    {
     "data": {
      "image/png": "[encoded data removed]",
      "text/plain": [
       "<Figure size 640x480 with 1 Axes>"
      ]
     },
     "metadata": {},
     "output_type": "display_data"
    }
   ],
   "source": [
    "plt.figure()\n",
    "plt.hist(df_divorce_age['Age_partner_man'], bins=40, alpha=0.5, label='Age Man', color='blue')\n",
    "plt.hist(df_divorce_age['Age_partner_woman'], bins=40, alpha=0.5, label='Age Female', color='red')\n",
    "plt.xlabel('Age')\n",
    "plt.ylabel('Frequency')\n",
    "plt.legend()"
   ]
  },
  {
   "cell_type": "markdown",
   "metadata": {},
   "source": [
    "Now plot the two distributions in two seperate figures using the \"plt.subplot()\" function. You can use the \"plt.tight_layout()\" function if the labels of the axis overlap."
   ]
  },
  {
   "cell_type": "code",
   "execution_count": 13,
   "metadata": {},
   "outputs": [
    {
     "data": {
      "image/png": "[encoded data removed]",
      "text/plain": [
       "<Figure size 640x480 with 2 Axes>"
      ]
     },
     "metadata": {},
     "output_type": "display_data"
    }
   ],
   "source": [
    "plt.figure()\n",
    "plt.subplot(1,2,1)\n",
    "plt.hist(df_divorce_age['Age_partner_man'], bins=40, alpha=0.5, label='Age Man', color='blue')\n",
    "plt.xlabel('Age')\n",
    "plt.ylabel('Frequency')\n",
    "plt.subplot(1,2,2)\n",
    "plt.hist(df_divorce_age['Age_partner_woman'], bins=40, alpha=0.5, label='Age Female', color='red')\n",
    "plt.xlabel('Age')\n",
    "plt.ylabel('Frequency')\n",
    "plt.tight_layout()\n",
    "\n"
   ]
  },
  {
   "cell_type": "markdown",
   "metadata": {},
   "source": [
    "## Age difference"
   ]
  },
  {
   "cell_type": "markdown",
   "metadata": {},
   "source": [
    "Write python code that make a new dataframe wich contains the age difference between man and woman"
   ]
  },
  {
   "cell_type": "code",
   "execution_count": 14,
   "metadata": {},
   "outputs": [],
   "source": [
    "df_age_difference = df_divorce_age['Age_partner_man'] - df_divorce_age['Age_partner_woman']"
   ]
  },
  {
   "cell_type": "markdown",
   "metadata": {},
   "source": [
    "Is on average the man or woman older in this dataset?"
   ]
  },
  {
   "cell_type": "code",
   "execution_count": 15,
   "metadata": {},
   "outputs": [
    {
     "data": {
      "text/plain": [
       "np.float64(2.3774104683195594)"
      ]
     },
     "execution_count": 15,
     "metadata": {},
     "output_type": "execute_result"
    }
   ],
   "source": [
    "df_age_difference.mean()"
   ]
  },
  {
   "cell_type": "markdown",
   "metadata": {},
   "source": [
    "What is the largest age difference in the dataset? Is the man or the woman older in this case?"
   ]
  },
  {
   "cell_type": "code",
   "execution_count": 16,
   "metadata": {},
   "outputs": [
    {
     "name": "stdout",
     "output_type": "stream",
     "text": [
      "47.0\n",
      "-23.0\n"
     ]
    }
   ],
   "source": [
    "print(df_age_difference.max())\n",
    "print(df_age_difference.min())"
   ]
  },
  {
   "cell_type": "markdown",
   "metadata": {},
   "source": [
    "Make a histogram out of the age difference distribution"
   ]
  },
  {
   "cell_type": "code",
   "execution_count": 17,
   "metadata": {},
   "outputs": [
    {
     "data": {
      "image/png": "[encoded data removed]",
      "text/plain": [
       "<Figure size 640x480 with 1 Axes>"
      ]
     },
     "metadata": {},
     "output_type": "display_data"
    }
   ],
   "source": [
    "plt.figure()\n",
    "plt.hist(df_age_difference, bins=40)\n",
    "plt.xlabel('Age difference')\n",
    "plt.ylabel('Frequency')\n",
    "plt.show()"
   ]
  },
  {
   "cell_type": "markdown",
   "metadata": {},
   "source": [
    "Can we conlude from this data that a smaller age difference leads to a higher probability of divorce?"
   ]
  },
  {
   "cell_type": "markdown",
   "metadata": {},
   "source": [
    "No, as we do not know how the distribution of age differences looks like for the still maried couples."
   ]
  },
  {
   "cell_type": "markdown",
   "metadata": {},
   "source": [
    "# Income difference\n",
    "\n",
    "In this section we are going to study the differences is income between the woman and man. Generate a new dataframe which has two columns: one with the man's income and one with the woman's income"
   ]
  },
  {
   "cell_type": "code",
   "execution_count": 18,
   "metadata": {},
   "outputs": [],
   "source": [
    "df_incomes = df_divorce[['Monthly_income_partner_man_peso', 'Monthly_income_partner_woman_peso']]"
   ]
  },
  {
   "cell_type": "markdown",
   "metadata": {},
   "source": [
    "Clean the dataframe again by removing the NaN values"
   ]
  },
  {
   "cell_type": "code",
   "execution_count": 19,
   "metadata": {},
   "outputs": [
    {
     "data": {
      "text/html": [
       "<div>\n",
       "<style scoped>\n",
       "    .dataframe tbody tr th:only-of-type {\n",
       "        vertical-align: middle;\n",
       "    }\n",
       "\n",
       "    .dataframe tbody tr th {\n",
       "        vertical-align: top;\n",
       "    }\n",
       "\n",
       "    .dataframe thead th {\n",
       "        text-align: right;\n",
       "    }\n",
       "</style>\n",
       "<table border=\"1\" class=\"dataframe\">\n",
       "  <thead>\n",
       "    <tr style=\"text-align: right;\">\n",
       "      <th></th>\n",
       "      <th>Monthly_income_partner_man_peso</th>\n",
       "      <th>Monthly_income_partner_woman_peso</th>\n",
       "    </tr>\n",
       "  </thead>\n",
       "  <tbody>\n",
       "    <tr>\n",
       "      <th>0</th>\n",
       "      <td>2000.0</td>\n",
       "      <td>1800.0</td>\n",
       "    </tr>\n",
       "    <tr>\n",
       "      <th>3</th>\n",
       "      <td>6000.0</td>\n",
       "      <td>5000.0</td>\n",
       "    </tr>\n",
       "    <tr>\n",
       "      <th>9</th>\n",
       "      <td>6000.0</td>\n",
       "      <td>6000.0</td>\n",
       "    </tr>\n",
       "    <tr>\n",
       "      <th>10</th>\n",
       "      <td>5000.0</td>\n",
       "      <td>5000.0</td>\n",
       "    </tr>\n",
       "    <tr>\n",
       "      <th>11</th>\n",
       "      <td>12000.0</td>\n",
       "      <td>12000.0</td>\n",
       "    </tr>\n",
       "  </tbody>\n",
       "</table>\n",
       "</div>"
      ],
      "text/plain": [
       "    Monthly_income_partner_man_peso  Monthly_income_partner_woman_peso\n",
       "0                            2000.0                             1800.0\n",
       "3                            6000.0                             5000.0\n",
       "9                            6000.0                             6000.0\n",
       "10                           5000.0                             5000.0\n",
       "11                          12000.0                            12000.0"
      ]
     },
     "execution_count": 19,
     "metadata": {},
     "output_type": "execute_result"
    }
   ],
   "source": [
    "df_incomes = df_incomes.dropna()\n",
    "df_incomes.head()"
   ]
  },
  {
   "cell_type": "markdown",
   "metadata": {},
   "source": [
    "Plot the man's and woman's income in the same plot"
   ]
  },
  {
   "cell_type": "code",
   "execution_count": 20,
   "metadata": {},
   "outputs": [
    {
     "data": {
      "text/plain": [
       "<matplotlib.legend.Legend at 0x12f100ec0>"
      ]
     },
     "execution_count": 20,
     "metadata": {},
     "output_type": "execute_result"
    },
    {
     "data": {
      "image/png": "[encoded data removed]",
      "text/plain": [
       "<Figure size 640x480 with 1 Axes>"
      ]
     },
     "metadata": {},
     "output_type": "display_data"
    }
   ],
   "source": [
    "plt.figure()\n",
    "plt.hist(df_incomes['Monthly_income_partner_man_peso'], bins=40, alpha=0.5, label='Age Man', color='blue')\n",
    "plt.hist(df_incomes['Monthly_income_partner_woman_peso'], bins=40, alpha=0.5, label='Age Female', color='red')\n",
    "plt.xlabel('Income')\n",
    "plt.ylabel('Frequency')\n",
    "plt.xscale('log')\n",
    "plt.legend()"
   ]
  },
  {
   "cell_type": "markdown",
   "metadata": {},
   "source": [
    "This time, the figure doesn't look that good. "
   ]
  },
  {
   "cell_type": "code",
   "execution_count": 21,
   "metadata": {},
   "outputs": [
    {
     "data": {
      "text/plain": [
       "<matplotlib.legend.Legend at 0x169d9dac0>"
      ]
     },
     "execution_count": 21,
     "metadata": {},
     "output_type": "execute_result"
    },
    {
     "data": {
      "image/png": "[encoded data removed]",
      "text/plain": [
       "<Figure size 640x480 with 1 Axes>"
      ]
     },
     "metadata": {},
     "output_type": "display_data"
    }
   ],
   "source": [
    "max_income = df_incomes['Monthly_income_partner_man_peso'].max()\n",
    "\n",
    "bins = np.arange(0, max_income + 1000, 1000)  # Adjusts automatically to data range\n",
    "\n",
    "plt.figure()\n",
    "plt.hist(df_incomes['Monthly_income_partner_man_peso'], bins=bins, alpha=0.5, label='Age Man', color='blue')\n",
    "plt.hist(df_incomes['Monthly_income_partner_woman_peso'], bins=bins, alpha=0.5, label='Age Female', color='red')\n",
    "plt.xlabel('Income')\n",
    "plt.ylabel('Frequency')\n",
    "plt.xscale('log')\n",
    "plt.legend()\n",
    "\n",
    "\n"
   ]
  },
  {
   "cell_type": "code",
   "execution_count": 22,
   "metadata": {},
   "outputs": [],
   "source": [
    "df_income_difference = df_incomes['Monthly_income_partner_man_peso'] - df_incomes['Monthly_income_partner_woman_peso']\n"
   ]
  },
  {
   "cell_type": "code",
   "execution_count": 23,
   "metadata": {},
   "outputs": [
    {
     "name": "stdout",
     "output_type": "stream",
     "text": [
      "-180000.0\n",
      "3141242.0\n",
      "50.0\n"
     ]
    }
   ],
   "source": [
    "print(df_income_difference.min())\n",
    "print(df_income_difference.max())\n",
    "print(df_income_difference.median())"
   ]
  },
  {
   "cell_type": "code",
   "execution_count": 24,
   "metadata": {},
   "outputs": [
    {
     "data": {
      "text/plain": [
       "np.int64(1518)"
      ]
     },
     "execution_count": 24,
     "metadata": {},
     "output_type": "execute_result"
    }
   ],
   "source": [
    "np.sum(df_income_difference == 0)\n",
    "np.sum(abs(df_income_difference) > 1000)"
   ]
  },
  {
   "cell_type": "code",
   "execution_count": 25,
   "metadata": {},
   "outputs": [
    {
     "data": {
      "image/png": "[encoded data removed]",
      "text/plain": [
       "<Figure size 640x480 with 1 Axes>"
      ]
     },
     "metadata": {},
     "output_type": "display_data"
    }
   ],
   "source": [
    "plt.figure()\n",
    "plt.hist(abs(df_income_difference),bins=1500)\n",
    "\n",
    "plt.xscale('log')\n",
    "plt.yscale('log')\n",
    "plt.show()"
   ]
  },
  {
   "cell_type": "markdown",
   "metadata": {},
   "source": [
    "# Does astrology predict divorce?"
   ]
  },
  {
   "cell_type": "markdown",
   "metadata": {},
   "source": [
    "Make a dataframe containing the date of birth (DOB) of the man and woman. And remove the rows containing missing values"
   ]
  },
  {
   "cell_type": "code",
   "execution_count": 35,
   "metadata": {},
   "outputs": [
    {
     "name": "stdout",
     "output_type": "stream",
     "text": [
      "<class 'pandas.core.frame.DataFrame'>\n",
      "Index: 4374 entries, 0 to 4922\n",
      "Data columns (total 2 columns):\n",
      " #   Column             Non-Null Count  Dtype \n",
      "---  ------             --------------  ----- \n",
      " 0   DOB_partner_man    4374 non-null   object\n",
      " 1   DOB_partner_woman  4374 non-null   object\n",
      "dtypes: object(2)\n",
      "memory usage: 102.5+ KB\n"
     ]
    }
   ],
   "source": [
    "df_DOB = df_divorce[['DOB_partner_man', 'DOB_partner_woman']]\n",
    "df_DOB = df_DOB.dropna()\n",
    "df_DOB.info()"
   ]
  },
  {
   "cell_type": "markdown",
   "metadata": {},
   "source": [
    "Now we have the dates of birth for the devorced couples we want to further format them. To determine the zodiac sign, we are only intrested in the month and day."
   ]
  },
  {
   "cell_type": "code",
   "execution_count": 34,
   "metadata": {},
   "outputs": [
    {
     "name": "stderr",
     "output_type": "stream",
     "text": [
      "/var/folders/p8/0nkkdxg56k79v8qg_d_7znrm0000gn/T/ipykernel_57014/4272758437.py:1: UserWarning: Could not infer format, so each element will be parsed individually, falling back to `dateutil`. To ensure parsing is consistent and as-expected, please specify a format.\n",
      "  df_DOB[['DOB_partner_man', 'DOB_partner_woman']] = df_DOB[['DOB_partner_man', 'DOB_partner_woman']].apply(pd.to_datetime)\n",
      "/var/folders/p8/0nkkdxg56k79v8qg_d_7znrm0000gn/T/ipykernel_57014/4272758437.py:1: UserWarning: Could not infer format, so each element will be parsed individually, falling back to `dateutil`. To ensure parsing is consistent and as-expected, please specify a format.\n",
      "  df_DOB[['DOB_partner_man', 'DOB_partner_woman']] = df_DOB[['DOB_partner_man', 'DOB_partner_woman']].apply(pd.to_datetime)\n"
     ]
    }
   ],
   "source": [
    "df_DOB[['DOB_partner_man', 'DOB_partner_woman']] = df_DOB[['DOB_partner_man', 'DOB_partner_woman']].apply(pd.to_datetime)"
   ]
  },
  {
   "cell_type": "code",
   "execution_count": 36,
   "metadata": {},
   "outputs": [
    {
     "ename": "KeyError",
     "evalue": "'date_column'",
     "output_type": "error",
     "traceback": [
      "\u001b[0;31m---------------------------------------------------------------------------\u001b[0m",
      "\u001b[0;31mKeyError\u001b[0m                                  Traceback (most recent call last)",
      "File \u001b[0;32m~/Documents/5. UvA/Teaching/Cognitive Data Science/Computer labs/.venv/lib/python3.12/site-packages/pandas/core/indexes/base.py:3805\u001b[0m, in \u001b[0;36mIndex.get_loc\u001b[0;34m(self, key)\u001b[0m\n\u001b[1;32m   3804\u001b[0m \u001b[38;5;28;01mtry\u001b[39;00m:\n\u001b[0;32m-> 3805\u001b[0m     \u001b[38;5;28;01mreturn\u001b[39;00m \u001b[38;5;28;43mself\u001b[39;49m\u001b[38;5;241;43m.\u001b[39;49m\u001b[43m_engine\u001b[49m\u001b[38;5;241;43m.\u001b[39;49m\u001b[43mget_loc\u001b[49m\u001b[43m(\u001b[49m\u001b[43mcasted_key\u001b[49m\u001b[43m)\u001b[49m\n\u001b[1;32m   3806\u001b[0m \u001b[38;5;28;01mexcept\u001b[39;00m \u001b[38;5;167;01mKeyError\u001b[39;00m \u001b[38;5;28;01mas\u001b[39;00m err:\n",
      "File \u001b[0;32mindex.pyx:167\u001b[0m, in \u001b[0;36mpandas._libs.index.IndexEngine.get_loc\u001b[0;34m()\u001b[0m\n",
      "File \u001b[0;32mindex.pyx:196\u001b[0m, in \u001b[0;36mpandas._libs.index.IndexEngine.get_loc\u001b[0;34m()\u001b[0m\n",
      "File \u001b[0;32mpandas/_libs/hashtable_class_helper.pxi:7081\u001b[0m, in \u001b[0;36mpandas._libs.hashtable.PyObjectHashTable.get_item\u001b[0;34m()\u001b[0m\n",
      "File \u001b[0;32mpandas/_libs/hashtable_class_helper.pxi:7089\u001b[0m, in \u001b[0;36mpandas._libs.hashtable.PyObjectHashTable.get_item\u001b[0;34m()\u001b[0m\n",
      "\u001b[0;31mKeyError\u001b[0m: 'date_column'",
      "\nThe above exception was the direct cause of the following exception:\n",
      "\u001b[0;31mKeyError\u001b[0m                                  Traceback (most recent call last)",
      "Cell \u001b[0;32mIn[36], line 2\u001b[0m\n\u001b[1;32m      1\u001b[0m \u001b[38;5;66;03m# Convert the 'date_column' to datetime format (dd/mm/yy)\u001b[39;00m\n\u001b[0;32m----> 2\u001b[0m df_DOB[\u001b[38;5;124m'\u001b[39m\u001b[38;5;124mdate_column\u001b[39m\u001b[38;5;124m'\u001b[39m] \u001b[38;5;241m=\u001b[39m pd\u001b[38;5;241m.\u001b[39mto_datetime(\u001b[43mdf_DOB\u001b[49m\u001b[43m[\u001b[49m\u001b[38;5;124;43m'\u001b[39;49m\u001b[38;5;124;43mdate_column\u001b[39;49m\u001b[38;5;124;43m'\u001b[39;49m\u001b[43m]\u001b[49m, \u001b[38;5;28mformat\u001b[39m\u001b[38;5;241m=\u001b[39m\u001b[38;5;124m'\u001b[39m\u001b[38;5;132;01m%d\u001b[39;00m\u001b[38;5;124m/\u001b[39m\u001b[38;5;124m%\u001b[39m\u001b[38;5;124mm/\u001b[39m\u001b[38;5;124m%\u001b[39m\u001b[38;5;124my\u001b[39m\u001b[38;5;124m'\u001b[39m)\n\u001b[1;32m      4\u001b[0m \u001b[38;5;66;03m# Extract day and month into separate columns\u001b[39;00m\n\u001b[1;32m      5\u001b[0m df_DOB[\u001b[38;5;124m'\u001b[39m\u001b[38;5;124mday\u001b[39m\u001b[38;5;124m'\u001b[39m] \u001b[38;5;241m=\u001b[39m df_DOB[\u001b[38;5;124m'\u001b[39m\u001b[38;5;124mdate_column\u001b[39m\u001b[38;5;124m'\u001b[39m]\u001b[38;5;241m.\u001b[39mdt\u001b[38;5;241m.\u001b[39mday\n",
      "File \u001b[0;32m~/Documents/5. UvA/Teaching/Cognitive Data Science/Computer labs/.venv/lib/python3.12/site-packages/pandas/core/frame.py:4102\u001b[0m, in \u001b[0;36mDataFrame.__getitem__\u001b[0;34m(self, key)\u001b[0m\n\u001b[1;32m   4100\u001b[0m \u001b[38;5;28;01mif\u001b[39;00m \u001b[38;5;28mself\u001b[39m\u001b[38;5;241m.\u001b[39mcolumns\u001b[38;5;241m.\u001b[39mnlevels \u001b[38;5;241m>\u001b[39m \u001b[38;5;241m1\u001b[39m:\n\u001b[1;32m   4101\u001b[0m     \u001b[38;5;28;01mreturn\u001b[39;00m \u001b[38;5;28mself\u001b[39m\u001b[38;5;241m.\u001b[39m_getitem_multilevel(key)\n\u001b[0;32m-> 4102\u001b[0m indexer \u001b[38;5;241m=\u001b[39m \u001b[38;5;28;43mself\u001b[39;49m\u001b[38;5;241;43m.\u001b[39;49m\u001b[43mcolumns\u001b[49m\u001b[38;5;241;43m.\u001b[39;49m\u001b[43mget_loc\u001b[49m\u001b[43m(\u001b[49m\u001b[43mkey\u001b[49m\u001b[43m)\u001b[49m\n\u001b[1;32m   4103\u001b[0m \u001b[38;5;28;01mif\u001b[39;00m is_integer(indexer):\n\u001b[1;32m   4104\u001b[0m     indexer \u001b[38;5;241m=\u001b[39m [indexer]\n",
      "File \u001b[0;32m~/Documents/5. UvA/Teaching/Cognitive Data Science/Computer labs/.venv/lib/python3.12/site-packages/pandas/core/indexes/base.py:3812\u001b[0m, in \u001b[0;36mIndex.get_loc\u001b[0;34m(self, key)\u001b[0m\n\u001b[1;32m   3807\u001b[0m     \u001b[38;5;28;01mif\u001b[39;00m \u001b[38;5;28misinstance\u001b[39m(casted_key, \u001b[38;5;28mslice\u001b[39m) \u001b[38;5;129;01mor\u001b[39;00m (\n\u001b[1;32m   3808\u001b[0m         \u001b[38;5;28misinstance\u001b[39m(casted_key, abc\u001b[38;5;241m.\u001b[39mIterable)\n\u001b[1;32m   3809\u001b[0m         \u001b[38;5;129;01mand\u001b[39;00m \u001b[38;5;28many\u001b[39m(\u001b[38;5;28misinstance\u001b[39m(x, \u001b[38;5;28mslice\u001b[39m) \u001b[38;5;28;01mfor\u001b[39;00m x \u001b[38;5;129;01min\u001b[39;00m casted_key)\n\u001b[1;32m   3810\u001b[0m     ):\n\u001b[1;32m   3811\u001b[0m         \u001b[38;5;28;01mraise\u001b[39;00m InvalidIndexError(key)\n\u001b[0;32m-> 3812\u001b[0m     \u001b[38;5;28;01mraise\u001b[39;00m \u001b[38;5;167;01mKeyError\u001b[39;00m(key) \u001b[38;5;28;01mfrom\u001b[39;00m \u001b[38;5;21;01merr\u001b[39;00m\n\u001b[1;32m   3813\u001b[0m \u001b[38;5;28;01mexcept\u001b[39;00m \u001b[38;5;167;01mTypeError\u001b[39;00m:\n\u001b[1;32m   3814\u001b[0m     \u001b[38;5;66;03m# If we have a listlike key, _check_indexing_error will raise\u001b[39;00m\n\u001b[1;32m   3815\u001b[0m     \u001b[38;5;66;03m#  InvalidIndexError. Otherwise we fall through and re-raise\u001b[39;00m\n\u001b[1;32m   3816\u001b[0m     \u001b[38;5;66;03m#  the TypeError.\u001b[39;00m\n\u001b[1;32m   3817\u001b[0m     \u001b[38;5;28mself\u001b[39m\u001b[38;5;241m.\u001b[39m_check_indexing_error(key)\n",
      "\u001b[0;31mKeyError\u001b[0m: 'date_column'"
     ]
    }
   ],
   "source": [
    "# Convert the 'date_column' to datetime format (dd/mm/yy)\n",
    "df_DOB['date_column'] = pd.to_datetime(df_DOB['date_column'], format='%d/%m/%y')\n",
    "\n",
    "# Extract day and month into separate columns\n",
    "df_DOB['day'] = df_DOB['date_column'].dt.day\n",
    "df_DOB['month'] = df_DOB['date_column'].dt.month"
   ]
  },
  {
   "cell_type": "code",
   "execution_count": null,
   "metadata": {},
   "outputs": [],
   "source": []
  }
 ],
 "metadata": {
  "kernelspec": {
   "display_name": ".venv",
   "language": "python",
   "name": "python3"
  },
  "language_info": {
   "codemirror_mode": {
    "name": "ipython",
    "version": 3
   },
   "file_extension": ".py",
   "mimetype": "text/x-python",
   "name": "python",
   "nbconvert_exporter": "python",
   "pygments_lexer": "ipython3",
   "version": "3.12.5"
  }
 },
 "nbformat": 4,
 "nbformat_minor": 2
}
