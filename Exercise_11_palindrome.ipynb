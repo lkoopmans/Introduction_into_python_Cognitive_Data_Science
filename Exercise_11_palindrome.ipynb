{
 "cells": [
  {
   "cell_type": "markdown",
   "metadata": {},
   "source": [
    "# Palindrome exercise\n",
    "In this exercise we are going to write a function which is able to determine if a word is a palindrome "
   ]
  },
  {
   "cell_type": "code",
   "execution_count": null,
   "metadata": {},
   "outputs": [],
   "source": [
    "#Install the needed packages\n",
    "%pip install numpy\n",
    "\n",
    "#Import the packages\n",
    "import numpy as np\n"
   ]
  },
  {
   "cell_type": "code",
   "execution_count": 7,
   "metadata": {},
   "outputs": [
    {
     "name": "stdout",
     "output_type": "stream",
     "text": [
      "Palindrome True\n"
     ]
    }
   ],
   "source": [
    "word = 'kook'\n",
    "word_reversed = word[::-1]\n",
    "\n",
    "if word == word_reversed:\n",
    "    palindrome = True\n",
    "else:\n",
    "    palindrome = False\n",
    "\n",
    "print('Palindrome', palindrome)\n",
    "\n"
   ]
  },
  {
   "cell_type": "code",
   "execution_count": 8,
   "metadata": {},
   "outputs": [],
   "source": [
    "def detect_palindrome(word):\n",
    "\n",
    "    word_reversed = word[::-1]\n",
    "\n",
    "    if word == word_reversed:\n",
    "        palindrome = True\n",
    "    else:\n",
    "        palindrome = False\n",
    "\n",
    "    return palindrome"
   ]
  },
  {
   "cell_type": "code",
   "execution_count": 10,
   "metadata": {},
   "outputs": [],
   "source": [
    "p = detect_palindrome('gogs')\n"
   ]
  },
  {
   "cell_type": "code",
   "execution_count": null,
   "metadata": {},
   "outputs": [],
   "source": []
  }
 ],
 "metadata": {
  "kernelspec": {
   "display_name": ".venv",
   "language": "python",
   "name": "python3"
  },
  "language_info": {
   "codemirror_mode": {
    "name": "ipython",
    "version": 3
   },
   "file_extension": ".py",
   "mimetype": "text/x-python",
   "name": "python",
   "nbconvert_exporter": "python",
   "pygments_lexer": "ipython3",
   "version": "3.12.5"
  }
 },
 "nbformat": 4,
 "nbformat_minor": 2
}
